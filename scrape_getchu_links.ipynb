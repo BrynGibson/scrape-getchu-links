{
 "cells": [
  {
   "cell_type": "code",
   "execution_count": null,
   "metadata": {},
   "outputs": [],
   "source": [
    "from selenium import webdriver\n",
    "from selenium.webdriver.common.keys import Keys\n",
    "import pandas as pd\n",
    "\n",
    "driver = webdriver.Chrome(r\"C:\\Users\\sloth\\Desktop\\int app dev\\intermediate-app-dev-concepts\\05-python-5-exceptions-automation-testing\\chromedriver.exe\")\n",
    "driver.get(\"http://erogamescape.dyndns.org/~ap2/ero/toukei_kaiseki/sql_for_erogamer_form.php\")\n",
    "\n",
    "sql_element = driver.find_element_by_name(\"sql\")\n",
    "sql_element.clear()\n",
    "sql_element.send_keys(\"SELECT 'www.getchu.com/soft.phtml?id=' || g.comike as links FROM gamelist g WHERE g.comike is NOT NULL\")\n",
    "\n",
    "submit_div = driver.find_element_by_id(\"submit\")\n",
    "submit_button = submit_div.find_element_by_tag_name(\"input\")\n",
    "submit_button.click()\n",
    "\n",
    "results_div = driver.find_element_by_id(\"query_result_main\")\n",
    "results = results_div.find_elements_by_tag_name(\"tr\")\n",
    "\n",
    "links = [i.text for i in results]\n",
    "links.pop(0)\n",
    "\n",
    "df = pd.DataFrame(links)\n",
    "df.columns = [\"url\"]\n",
    "df.to_csv(\"urls.csv\", index=False)"
   ]
  }
 ],
 "metadata": {
  "kernelspec": {
   "display_name": "Python 3",
   "language": "python",
   "name": "python3"
  },
  "language_info": {
   "codemirror_mode": {
    "name": "ipython",
    "version": 3
   },
   "file_extension": ".py",
   "mimetype": "text/x-python",
   "name": "python",
   "nbconvert_exporter": "python",
   "pygments_lexer": "ipython3",
   "version": "3.8.3"
  }
 },
 "nbformat": 4,
 "nbformat_minor": 4
}
